{
 "cells": [
  {
   "cell_type": "markdown",
   "metadata": {},
   "source": [
    "# Tests and trials \n",
    "\n",
    "Project has to be handed in in pyhton file, not notebooks"
   ]
  },
  {
   "cell_type": "code",
   "execution_count": 8,
   "metadata": {},
   "outputs": [
    {
     "name": "stdout",
     "output_type": "stream",
     "text": [
      "<generator object walk at 0x000001D397FA4BC8>\n"
     ]
    }
   ],
   "source": []
  },
  {
   "cell_type": "code",
   "execution_count": 27,
   "metadata": {},
   "outputs": [
    {
     "name": "stdout",
     "output_type": "stream",
     "text": [
      "[['.\\\\DATA\\\\ID03\\\\ID03post.png', '.\\\\DATA\\\\ID03\\\\ID03pre.png'], ['.\\\\DATA\\\\ID04\\\\ID04post.png', '.\\\\DATA\\\\ID04\\\\ID04pre.png'], ['.\\\\DATA\\\\ID05\\\\ID05post.png', '.\\\\DATA\\\\ID05\\\\ID05pre.png'], ['.\\\\DATA\\\\ID06\\\\ID06post.png', '.\\\\DATA\\\\ID06\\\\ID06pre.png'], ['.\\\\DATA\\\\ID07\\\\ID07post.png', '.\\\\DATA\\\\ID07\\\\ID07pre.png'], ['.\\\\DATA\\\\ID14\\\\ID14post.png', '.\\\\DATA\\\\ID14\\\\ID14pre.png'], ['.\\\\DATA\\\\ID15\\\\ID15post.png', '.\\\\DATA\\\\ID15\\\\ID15pre.png'], ['.\\\\DATA\\\\ID17\\\\ID17post.png', '.\\\\DATA\\\\ID17\\\\ID17pre.png'], ['.\\\\DATA\\\\ID18\\\\ID18post.png', '.\\\\DATA\\\\ID18\\\\ID18pre.png'], ['.\\\\DATA\\\\ID37\\\\ID37post.png', '.\\\\DATA\\\\ID37\\\\ID37pre.png'], ['.\\\\DATA\\\\ID38\\\\ID38post.png', '.\\\\DATA\\\\ID38\\\\ID38pre.png'], ['.\\\\DATA\\\\ID55\\\\ID55post.png', '.\\\\DATA\\\\ID55\\\\ID55pre.png']]\n"
     ]
    }
   ],
   "source": [
    "import os, os.path\n",
    "\n",
    "pairs = []\n",
    "for root, dirs, files in os.walk(\".\\DATA\"):\n",
    "    pair = []\n",
    "    for file in files:\n",
    "        pair.append(root + \"\\\\\" + file)\n",
    "    pairs.append(pair)\n",
    "\n",
    "# Removes the ./DATA entry\n",
    "del pairs[0]\n",
    "\n",
    "# For double backslashs: https://stackoverflow.com/questions/17327202/python-replace-single-backslash-with-double-backslash\n",
    "\n",
    "\n",
    "print(pairs)"
   ]
  },
  {
   "cell_type": "code",
   "execution_count": null,
   "metadata": {},
   "outputs": [],
   "source": [
    "import glob\n",
    "import os, os.path\n",
    "\n",
    "\n",
    "image_list = []\n",
    "\n",
    "for filename in glob.glob('DATA/*/*post.png'): \n",
    "    im=Image.open(filename)\n",
    "    image_list.append(im)"
   ]
  },
  {
   "cell_type": "code",
   "execution_count": null,
   "metadata": {},
   "outputs": [],
   "source": [
    "import os, os.path\n",
    "\n",
    "\n",
    "imgs = []\n",
    "path = \"/DATA\"\n",
    "valid_images = [\".jpg\",\".gif\",\".png\",\".tga\"]\n",
    "for f in os.listdir(path):\n",
    "    ext = os.path.splitext(f)[1]\n",
    "    if ext.lower() not in valid_images:\n",
    "        continue\n",
    "    imgs.append(Image.open(os.path.join(path,f))"
   ]
  }
 ],
 "metadata": {
  "kernelspec": {
   "display_name": "Python 3",
   "language": "python",
   "name": "python3"
  },
  "language_info": {
   "codemirror_mode": {
    "name": "ipython",
    "version": 3
   },
   "file_extension": ".py",
   "mimetype": "text/x-python",
   "name": "python",
   "nbconvert_exporter": "python",
   "pygments_lexer": "ipython3",
   "version": "3.7.6"
  }
 },
 "nbformat": 4,
 "nbformat_minor": 4
}
